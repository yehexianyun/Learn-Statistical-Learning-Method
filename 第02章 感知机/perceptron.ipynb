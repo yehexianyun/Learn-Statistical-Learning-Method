{
  "cells": [
    {
      "cell_type": "markdown",
      "metadata": {
        "colab_type": "text",
        "id": "2Rs9taXvrXIX"
      },
      "source": [
        "# 第2章 感知机\n",
        "\n",
        "二分类模型"
      ]
    },
    {
      "cell_type": "markdown",
      "metadata": {
        "colab_type": "text",
        "id": "qxcj1YbyrXIY"
      },
      "source": [
        "$f(x) = sign(w*x + b)$\n",
        "\n",
        "损失函数 $L(w, b) = -\\Sigma{y_{i}(w*x_{i} + b)}$\n",
        "\n",
        "---\n",
        "#### 算法\n",
        "\n",
        "随即梯度下降法 Stochastic Gradient Descent\n",
        "\n",
        "随机抽取一个误分类点使其梯度下降。\n",
        "\n",
        "$w = w + \\eta y_{i}x_{i}$\n",
        "\n",
        "$b = b + \\eta y_{i}$\n",
        "\n",
        "当实例点被误分类，即位于分离超平面的错误侧，则调整w, b的值，使分离超平面向该无分类点的一侧移动，直至误分类点被正确分类"
      ]
    },
    {
      "cell_type": "markdown",
      "metadata": {
        "colab_type": "text",
        "id": "kTw0KxLQrXIZ"
      },
      "source": [
        "拿出iris数据集中两个分类的数据和[sepal length，sepal width]作为特征"
      ]
    },
    {
      "cell_type": "code",
      "execution_count": 19,
      "metadata": {
        "colab": {},
        "colab_type": "code",
        "id": "Jd4gLSQZrXIa"
      },
      "outputs": [],
      "source": [
        "import pandas as pd\n",
        "import numpy as np\n",
        "from sklearn.datasets import load_iris\n",
        "import matplotlib.pyplot as plt\n",
        "%matplotlib inline"
      ]
    },
    {
      "cell_type": "code",
      "execution_count": 18,
      "metadata": {
        "colab": {},
        "colab_type": "code",
        "id": "Awm6TTnwrXId"
      },
      "outputs": [],
      "source": [
        "# load data\n",
        "iris = load_iris() # 0: setosa, 1: versicolor, 2: virginica\n",
        "df = pd.DataFrame(iris.data, columns=iris.feature_names) # feature_names: ['sepal length (cm)', 'sepal width (cm)', 'petal length (cm)', 'petal width (cm)']\n",
        "df['label'] = iris.target # target: 0, 1, 2"
      ]
    },
    {
      "cell_type": "code",
      "execution_count": 20,
      "metadata": {
        "colab": {
          "base_uri": "https://localhost:8080/",
          "height": 204
        },
        "colab_type": "code",
        "id": "gr7UQ1VerxCv",
        "outputId": "570b24ce-722d-4180-efc3-c5c49a10f1f0"
      },
      "outputs": [
        {
          "data": {
            "text/html": [
              "<div>\n",
              "<style scoped>\n",
              "    .dataframe tbody tr th:only-of-type {\n",
              "        vertical-align: middle;\n",
              "    }\n",
              "\n",
              "    .dataframe tbody tr th {\n",
              "        vertical-align: top;\n",
              "    }\n",
              "\n",
              "    .dataframe thead th {\n",
              "        text-align: right;\n",
              "    }\n",
              "</style>\n",
              "<table border=\"1\" class=\"dataframe\">\n",
              "  <thead>\n",
              "    <tr style=\"text-align: right;\">\n",
              "      <th></th>\n",
              "      <th>sepal length (cm)</th>\n",
              "      <th>sepal width (cm)</th>\n",
              "      <th>petal length (cm)</th>\n",
              "      <th>petal width (cm)</th>\n",
              "      <th>label</th>\n",
              "    </tr>\n",
              "  </thead>\n",
              "  <tbody>\n",
              "    <tr>\n",
              "      <th>0</th>\n",
              "      <td>5.1</td>\n",
              "      <td>3.5</td>\n",
              "      <td>1.4</td>\n",
              "      <td>0.2</td>\n",
              "      <td>0</td>\n",
              "    </tr>\n",
              "    <tr>\n",
              "      <th>1</th>\n",
              "      <td>4.9</td>\n",
              "      <td>3.0</td>\n",
              "      <td>1.4</td>\n",
              "      <td>0.2</td>\n",
              "      <td>0</td>\n",
              "    </tr>\n",
              "    <tr>\n",
              "      <th>2</th>\n",
              "      <td>4.7</td>\n",
              "      <td>3.2</td>\n",
              "      <td>1.3</td>\n",
              "      <td>0.2</td>\n",
              "      <td>0</td>\n",
              "    </tr>\n",
              "    <tr>\n",
              "      <th>3</th>\n",
              "      <td>4.6</td>\n",
              "      <td>3.1</td>\n",
              "      <td>1.5</td>\n",
              "      <td>0.2</td>\n",
              "      <td>0</td>\n",
              "    </tr>\n",
              "    <tr>\n",
              "      <th>4</th>\n",
              "      <td>5.0</td>\n",
              "      <td>3.6</td>\n",
              "      <td>1.4</td>\n",
              "      <td>0.2</td>\n",
              "      <td>0</td>\n",
              "    </tr>\n",
              "  </tbody>\n",
              "</table>\n",
              "</div>"
            ],
            "text/plain": [
              "   sepal length (cm)  sepal width (cm)  petal length (cm)  petal width (cm)  \\\n",
              "0                5.1               3.5                1.4               0.2   \n",
              "1                4.9               3.0                1.4               0.2   \n",
              "2                4.7               3.2                1.3               0.2   \n",
              "3                4.6               3.1                1.5               0.2   \n",
              "4                5.0               3.6                1.4               0.2   \n",
              "\n",
              "   label  \n",
              "0      0  \n",
              "1      0  \n",
              "2      0  \n",
              "3      0  \n",
              "4      0  "
            ]
          },
          "execution_count": 20,
          "metadata": {},
          "output_type": "execute_result"
        }
      ],
      "source": [
        "df.head()"
      ]
    },
    {
      "cell_type": "code",
      "execution_count": 21,
      "metadata": {
        "colab": {
          "base_uri": "https://localhost:8080/",
          "height": 89
        },
        "colab_type": "code",
        "id": "I09dAZWgrXIf",
        "outputId": "13e919bc-3953-47fb-ac4f-5f50c897e275"
      },
      "outputs": [
        {
          "data": {
            "text/plain": [
              "label\n",
              "0    50\n",
              "1    50\n",
              "2    50\n",
              "Name: count, dtype: int64"
            ]
          },
          "execution_count": 21,
          "metadata": {},
          "output_type": "execute_result"
        }
      ],
      "source": [
        "# change column name\n",
        "df.columns = ['sepal length', 'sepal width', 'petal length', 'petal width', 'label'] #修改列名\n",
        "df.label.value_counts() #输出每个类别的数量"
      ]
    },
    {
      "cell_type": "code",
      "execution_count": 22,
      "metadata": {
        "colab": {
          "base_uri": "https://localhost:8080/",
          "height": 301
        },
        "colab_type": "code",
        "id": "pfXBMB1srXIj",
        "outputId": "2879b376-7537-4ed6-d660-0e8598d5006c"
      },
      "outputs": [
        {
          "data": {
            "text/plain": [
              "<matplotlib.legend.Legend at 0x16379429c50>"
            ]
          },
          "execution_count": 22,
          "metadata": {},
          "output_type": "execute_result"
        },
        {
          "data": {
            "image/png": "[encoded data removed]",
            "text/plain": [
              "<Figure size 640x480 with 1 Axes>"
            ]
          },
          "metadata": {},
          "output_type": "display_data"
        }
      ],
      "source": [
        "# plot dataset\n",
        "plt.scatter(df[:50]['sepal length'], df[:50]['sepal width'], label='-1') #前50行的sepal length和sepal width\n",
        "plt.scatter(df[50:100]['sepal length'], df[50:100]['sepal width'], label='1') # 50-100行的sepal length和sepal width\n",
        "plt.xlabel('sepal length') #x轴标签\n",
        "plt.ylabel('sepal width') #y轴标签\n",
        "plt.legend() #显示图例"
      ]
    },
    {
      "cell_type": "code",
      "execution_count": null,
      "metadata": {
        "colab": {},
        "colab_type": "code",
        "id": "G6mDw2H4rXIn"
      },
      "outputs": [],
      "source": [
        "# 将df前100行的第一二及最后一列作为数据集\n",
        "data = np.array(df.iloc[:100, [0, 1, -1]])\n",
        "X, y = data[:,:-1], data[:,-1]\n",
        "y = np.array([1 if i == 1 else -1 for i in y])"
      ]
    },
    {
      "cell_type": "code",
      "execution_count": null,
      "metadata": {
        "colab": {
          "base_uri": "https://localhost:8080/",
          "height": 35
        },
        "colab_type": "code",
        "id": "b-X8nfcrtZGZ",
        "outputId": "3d4bfd87-a2e7-4fb5-ad2b-bdf674d7cd26"
      },
      "outputs": [],
      "source": [
        "X.shape"
      ]
    },
    {
      "cell_type": "code",
      "execution_count": null,
      "metadata": {
        "colab": {
          "base_uri": "https://localhost:8080/",
          "height": 35
        },
        "colab_type": "code",
        "id": "DEkk5QtatyKe",
        "outputId": "027d7120-eed1-4f05-8026-2a3b87c0bc2d"
      },
      "outputs": [],
      "source": [
        "y.shape"
      ]
    },
    {
      "cell_type": "markdown",
      "metadata": {
        "colab_type": "text",
        "id": "xRat7632rXIs"
      },
      "source": [
        "## Perceptron"
      ]
    },
    {
      "cell_type": "code",
      "execution_count": null,
      "metadata": {
        "colab": {},
        "colab_type": "code",
        "id": "o1SudzvBrXIt"
      },
      "outputs": [],
      "source": [
        "# 原始形式 2.1\n",
        "class PLA:\n",
        "    def __init__(self, max_iter=1000, shuffle=False):\n",
        "        self.b = 0\n",
        "        self.lr = 0.1\n",
        "        self.max_iter = max_iter\n",
        "        self.iter = 0\n",
        "        self.shuffle = shuffle\n",
        "        \n",
        "    def sign(self, x, w, b):\n",
        "        return np.dot(x, w) + b\n",
        "    \n",
        "    def fit(self, X, y):\n",
        "        N, M = X.shape\n",
        "        self.w = np.ones(M)\n",
        "        for n in range(self.max_iter):\n",
        "            self.iter = n\n",
        "            wrong_items = 0\n",
        "            if self.shuffle: #每次迭代，是否打乱\n",
        "                idx = np.random.permutation(range(N))\n",
        "                X,y = X[idx],y[idx]\n",
        "            for i in range(N):\n",
        "                if y[i] * self.sign(X[i], self.w, self.b) <= 0:\n",
        "                    self.w += self.lr * np.dot(y[i], X[i])\n",
        "                    self.b += self.lr * y[i]\n",
        "                    wrong_items += 1\n",
        "            if wrong_items == 0:\n",
        "                print(\"finished at iters: {}, w: {}, b: {}\".format(self.iter, self.w, self.b))\n",
        "                return \n",
        "        print(\"finished for reaching the max_iter: {}, w: {}, b: {}\".format(self.max_iter, self.w, self.b))"
      ]
    },
    {
      "cell_type": "code",
      "execution_count": null,
      "metadata": {
        "colab": {},
        "colab_type": "code",
        "id": "80ndC9hpo6mW"
      },
      "outputs": [],
      "source": [
        "# 对偶形式 2.3\n",
        "class PLA_dual:\n",
        "    def __init__(self, max_iter=1000):\n",
        "        self.b = 0\n",
        "        self.lr = 0.1\n",
        "        self.max_iter = max_iter\n",
        "        self.iter = 0\n",
        "    \n",
        "    def cal_w(self, X):\n",
        "        w = 0\n",
        "        for i in range(len(self.alpha)):\n",
        "            w += self.alpha[i]*y[i]*X[i]\n",
        "        return w\n",
        "    \n",
        "    def gram_matrix(self, X):\n",
        "        return np.dot(X, X.T)\n",
        "    \n",
        "    def fit(self, X, y):\n",
        "        N, M = X.shape\n",
        "        self.alpha = np.zeros(N)\n",
        "        gram = self.gram_matrix(X)\n",
        "        for n in range(self.max_iter):\n",
        "            self.iter = n\n",
        "            wrong_items = 0\n",
        "            for i in range(N):\n",
        "                tmp = 0\n",
        "                for j in range(N):\n",
        "                    tmp += self.alpha[j] * y[j] * gram[i,j]\n",
        "                tmp += self.b\n",
        "                if y[i] * tmp <= 0:\n",
        "                    self.alpha[i] += self.lr\n",
        "                    self.b += self.lr * y[i]\n",
        "                    wrong_items += 1\n",
        "            if wrong_items == 0:\n",
        "                self.w = self.cal_w(X)\n",
        "                print(\"finished at iters: {}, w: {}, b: {}\".format(self.iter, self.w, self.b))\n",
        "                return\n",
        "        self.w = self.cal_w(X)\n",
        "        print(\"finished for reaching the max_iter: {}, w: {}, b: {}\".format(self.max_iter, self.w, self.b))\n",
        "        return"
      ]
    },
    {
      "cell_type": "code",
      "execution_count": null,
      "metadata": {
        "colab": {
          "base_uri": "https://localhost:8080/",
          "height": 35
        },
        "colab_type": "code",
        "id": "fEMEZ59irXIw",
        "outputId": "ca783b85-9985-4acd-c383-5d63b4256c6f"
      },
      "outputs": [],
      "source": [
        "perceptron1 = PLA()\n",
        "perceptron1.fit(X, y)"
      ]
    },
    {
      "cell_type": "code",
      "execution_count": null,
      "metadata": {
        "colab": {
          "base_uri": "https://localhost:8080/",
          "height": 35
        },
        "colab_type": "code",
        "id": "ndtAsdrqngKO",
        "outputId": "1c91b912-a25c-4903-a900-30431de8fe63"
      },
      "outputs": [],
      "source": [
        "perceptron2 = PLA(shuffle=True)\n",
        "perceptron2.fit(X, y)"
      ]
    },
    {
      "cell_type": "code",
      "execution_count": null,
      "metadata": {
        "colab": {
          "base_uri": "https://localhost:8080/",
          "height": 35
        },
        "colab_type": "code",
        "id": "GLJ8Syrax80V",
        "outputId": "27879d2d-e235-4e8a-d530-55d4ca360d74"
      },
      "outputs": [],
      "source": [
        "perceptron3 = PLA_dual()\n",
        "perceptron3.fit(X, y)"
      ]
    },
    {
      "cell_type": "code",
      "execution_count": null,
      "metadata": {
        "colab": {},
        "colab_type": "code",
        "id": "wlDN4I7YrXIz"
      },
      "outputs": [],
      "source": [
        "def plot(model, tilte):\n",
        "    x_points = np.linspace(4, 7, 10)\n",
        "    y_ = -(model.w[0]*x_points + model.b)/model.w[1]\n",
        "    plt.plot(x_points, y_)\n",
        "    print(y_)\n",
        "\n",
        "    plt.plot(data[:50, 0], data[:50, 1], 'bo', color='blue', label='-1')\n",
        "    plt.plot(data[50:100, 0], data[50:100, 1], 'bo', color='orange', label='1')\n",
        "    plt.xlabel('sepal length')\n",
        "    plt.ylabel('sepal width')\n",
        "    plt.title(tilte)\n",
        "    plt.legend()"
      ]
    },
    {
      "cell_type": "code",
      "execution_count": null,
      "metadata": {
        "colab": {
          "base_uri": "https://localhost:8080/",
          "height": 313
        },
        "colab_type": "code",
        "id": "FmDVis0SoPEc",
        "outputId": "442d715d-326b-4351-ad12-18dec45f1ed6"
      },
      "outputs": [],
      "source": [
        "plot(perceptron1, 'PLA with no shuffle')"
      ]
    },
    {
      "cell_type": "code",
      "execution_count": null,
      "metadata": {
        "colab": {
          "base_uri": "https://localhost:8080/",
          "height": 331
        },
        "colab_type": "code",
        "id": "ggxHGnndnr7E",
        "outputId": "635ca959-e41a-46a2-cd22-e62e8a770ecc"
      },
      "outputs": [],
      "source": [
        "plot(perceptron2, 'PLA with shuffle')"
      ]
    },
    {
      "cell_type": "code",
      "execution_count": null,
      "metadata": {
        "colab": {
          "base_uri": "https://localhost:8080/",
          "height": 331
        },
        "colab_type": "code",
        "id": "RcfmVlJk6oAm",
        "outputId": "939d6cae-855c-41cc-df57-2e045540833d"
      },
      "outputs": [],
      "source": [
        "plot(perceptron3, 'PLA_dual')"
      ]
    },
    {
      "cell_type": "code",
      "execution_count": null,
      "metadata": {
        "colab": {},
        "colab_type": "code",
        "id": "IbCqEOjaL9-E"
      },
      "outputs": [],
      "source": [
        "# w有细微差别，plot出来的分界面差不多。"
      ]
    },
    {
      "cell_type": "markdown",
      "metadata": {
        "colab_type": "text",
        "id": "dAXMohlfrXI2"
      },
      "source": [
        "## scikit-learn Perceptron"
      ]
    },
    {
      "cell_type": "code",
      "execution_count": null,
      "metadata": {
        "colab": {},
        "colab_type": "code",
        "id": "0q8vGAs_rXI3"
      },
      "outputs": [],
      "source": [
        "from sklearn.linear_model import Perceptron"
      ]
    },
    {
      "cell_type": "code",
      "execution_count": null,
      "metadata": {
        "colab": {
          "base_uri": "https://localhost:8080/",
          "height": 89
        },
        "colab_type": "code",
        "id": "bPmV4Cb5rXI4",
        "outputId": "919a47e7-9132-43a7-9306-7500d1f5447d"
      },
      "outputs": [],
      "source": [
        "clf = Perceptron()\n",
        "clf.fit(X, y)"
      ]
    },
    {
      "cell_type": "code",
      "execution_count": null,
      "metadata": {
        "colab": {
          "base_uri": "https://localhost:8080/",
          "height": 35
        },
        "colab_type": "code",
        "id": "tYRFc938rXI7",
        "outputId": "ae6f54f7-5c41-4509-bae6-5e6bcc8c0a11"
      },
      "outputs": [],
      "source": [
        "# Weights assigned to the features.\n",
        "clf.coef_"
      ]
    },
    {
      "cell_type": "code",
      "execution_count": null,
      "metadata": {
        "colab": {
          "base_uri": "https://localhost:8080/",
          "height": 35
        },
        "colab_type": "code",
        "id": "ms-p2flmrXI9",
        "outputId": "8dbf6e79-e8eb-44a7-85fe-9d799c9c52e8"
      },
      "outputs": [],
      "source": [
        "# 截距 Constants in decision function.\n",
        "clf.intercept_"
      ]
    },
    {
      "cell_type": "code",
      "execution_count": null,
      "metadata": {
        "colab": {
          "base_uri": "https://localhost:8080/",
          "height": 35
        },
        "colab_type": "code",
        "id": "glwfUSJX3XfQ",
        "outputId": "119302fe-bd1f-42fb-9767-ab9287646aab"
      },
      "outputs": [],
      "source": [
        "clf.n_iter_"
      ]
    },
    {
      "cell_type": "code",
      "execution_count": null,
      "metadata": {
        "colab": {
          "base_uri": "https://localhost:8080/",
          "height": 301
        },
        "colab_type": "code",
        "id": "wLPY7J68rXJA",
        "outputId": "84306984-2ef8-4362-88b6-adac6d20d452"
      },
      "outputs": [],
      "source": [
        "x_ponits = np.linspace(4, 7, 10)\n",
        "y_ = -(clf.coef_[0][0]*x_ponits + clf.intercept_)/clf.coef_[0][1]\n",
        "plt.plot(x_ponits, y_)\n",
        "\n",
        "plt.plot(data[:50, 0], data[:50, 1], 'bo', color='blue', label='0')\n",
        "plt.plot(data[50:100, 0], data[50:100, 1], 'bo', color='orange', label='1')\n",
        "plt.xlabel('sepal length')\n",
        "plt.ylabel('sepal width')\n",
        "plt.legend()"
      ]
    },
    {
      "cell_type": "code",
      "execution_count": null,
      "metadata": {
        "colab": {},
        "colab_type": "code",
        "id": "-NlSbrKAi4ds"
      },
      "outputs": [],
      "source": [
        "#感知机的假设空间是定义在特征空间中的所以线性分类器的集合。\n",
        "#感知机的模型复杂度体现在计算w和x的内积上，样本数目和特征空间维数是决定模型复杂度的关键。"
      ]
    },
    {
      "cell_type": "markdown",
      "metadata": {
        "colab_type": "text",
        "id": "MPh3584iMNGu"
      },
      "source": [
        "作业"
      ]
    },
    {
      "cell_type": "code",
      "execution_count": null,
      "metadata": {
        "colab": {},
        "colab_type": "code",
        "id": "0cohIM9C65h8"
      },
      "outputs": [],
      "source": [
        "mydata = np.array([[3,3, 1],[4,3, 1],[1,1, -1]])\n",
        "X = mydata[:,:-1]\n",
        "y = mydata[:,-1]"
      ]
    },
    {
      "cell_type": "code",
      "execution_count": null,
      "metadata": {
        "colab": {},
        "colab_type": "code",
        "id": "J4TSS2Bp8qTL"
      },
      "outputs": [],
      "source": [
        "def plot1(model):\n",
        "    x_ponits = np.linspace(0, 7, 10)\n",
        "    y_ = -(model.w[0]*x_ponits + model.b)/(model.w[1] + 1e-10)\n",
        "    plt.plot(x_ponits, y_)\n",
        "\n",
        "    plt.plot(mydata[:2, 0], mydata[:2, 1], 'bo', color='blue', label='+1')\n",
        "    plt.plot(mydata[2:, 0], mydata[2:, 1], 'bo', color='orange', label='-1')\n",
        "    plt.legend()"
      ]
    },
    {
      "cell_type": "code",
      "execution_count": null,
      "metadata": {
        "colab": {
          "base_uri": "https://localhost:8080/",
          "height": 35
        },
        "colab_type": "code",
        "id": "-5iSkbZ97C9X",
        "outputId": "f93e3190-4195-4114-e1e9-a75a4bcc9f8e"
      },
      "outputs": [],
      "source": [
        "pla1 = PLA() # no shuffle\n",
        "pla1.fit(X, y)"
      ]
    },
    {
      "cell_type": "code",
      "execution_count": null,
      "metadata": {
        "colab": {
          "base_uri": "https://localhost:8080/",
          "height": 269
        },
        "colab_type": "code",
        "id": "5_9lg9j-OcL2",
        "outputId": "fd73c8b9-560d-41df-95ba-ee91a63cd447"
      },
      "outputs": [],
      "source": [
        "plot1(pla1)"
      ]
    },
    {
      "cell_type": "code",
      "execution_count": null,
      "metadata": {
        "colab": {
          "base_uri": "https://localhost:8080/",
          "height": 35
        },
        "colab_type": "code",
        "id": "8QgmQ74E7VRW",
        "outputId": "d40f45b9-54e3-4c2a-e35a-7e7e0ff8e347"
      },
      "outputs": [],
      "source": [
        "pla2 = PLA(shuffle = True) # shuffle\n",
        "pla2.fit(X, y)"
      ]
    },
    {
      "cell_type": "code",
      "execution_count": null,
      "metadata": {
        "colab": {
          "base_uri": "https://localhost:8080/",
          "height": 269
        },
        "colab_type": "code",
        "id": "unMyRVjYPGMx",
        "outputId": "f4b35d75-8e49-404b-8026-d90193cd788c"
      },
      "outputs": [],
      "source": [
        "plot1(pla2)"
      ]
    },
    {
      "cell_type": "code",
      "execution_count": null,
      "metadata": {
        "colab": {
          "base_uri": "https://localhost:8080/",
          "height": 35
        },
        "colab_type": "code",
        "id": "q3hSFFBSN89F",
        "outputId": "1f237fd0-3534-4f27-b4af-67d5900c194b"
      },
      "outputs": [],
      "source": [
        "pla0 = PLA_dual()\n",
        "pla0.fit(X,y)"
      ]
    },
    {
      "cell_type": "code",
      "execution_count": null,
      "metadata": {
        "colab": {
          "base_uri": "https://localhost:8080/",
          "height": 269
        },
        "colab_type": "code",
        "id": "Z4bL3-IuPIcV",
        "outputId": "69f51e29-0e83-4352-943f-dfe426b0cc4a"
      },
      "outputs": [],
      "source": [
        "plot1(pla0)"
      ]
    },
    {
      "cell_type": "code",
      "execution_count": null,
      "metadata": {
        "colab": {
          "base_uri": "https://localhost:8080/",
          "height": 89
        },
        "colab_type": "code",
        "id": "dTKonSol-jsk",
        "outputId": "2af024c9-67e8-4f44-947a-ef716ccdb62c"
      },
      "outputs": [],
      "source": [
        "# scikit-learn\n",
        "pla3 = Perceptron()\n",
        "pla3.fit(X,y)"
      ]
    },
    {
      "cell_type": "code",
      "execution_count": null,
      "metadata": {
        "colab": {
          "base_uri": "https://localhost:8080/",
          "height": 35
        },
        "colab_type": "code",
        "id": "_FmsLs4y_7ND",
        "outputId": "b4060663-fb02-431f-e705-011561618c94"
      },
      "outputs": [],
      "source": [
        "pla3.coef_"
      ]
    },
    {
      "cell_type": "code",
      "execution_count": null,
      "metadata": {
        "colab": {
          "base_uri": "https://localhost:8080/",
          "height": 35
        },
        "colab_type": "code",
        "id": "jVZWGawqAVGr",
        "outputId": "dc3ec4bb-0b55-44bb-cacb-fce13b860918"
      },
      "outputs": [],
      "source": [
        "pla3.intercept_"
      ]
    },
    {
      "cell_type": "code",
      "execution_count": null,
      "metadata": {
        "colab": {
          "base_uri": "https://localhost:8080/",
          "height": 294
        },
        "colab_type": "code",
        "id": "0qRoaBt1BHig",
        "outputId": "1f185dd5-c464-41a6-c3b9-60389e7e4541"
      },
      "outputs": [],
      "source": [
        "x_ponits = np.linspace(0, 7, 10)\n",
        "y_ = -(pla3.coef_[0][0]*x_ponits + pla3.intercept_)/(pla3.coef_[0][1] + 1e-10)\n",
        "plt.plot(x_ponits, y_)\n",
        "\n",
        "plt.plot(mydata[:2, 0], mydata[:2, 1], 'bo', color='blue', label='+1')\n",
        "plt.plot(mydata[2:, 0], mydata[2:, 1], 'bo', color='orange', label='-1')\n",
        "plt.legend()"
      ]
    },
    {
      "cell_type": "code",
      "execution_count": null,
      "metadata": {
        "colab": {},
        "colab_type": "code",
        "id": "Lw4Bn8zZJylR"
      },
      "outputs": [],
      "source": [
        "from time import time\n",
        "lrs = np.arange(0.1, 1.0, 0.1)\n",
        "t = []\n",
        "for lr in lrs:\n",
        "    start = time()\n",
        "    pla = Perceptron(eta0 = lr)\n",
        "    pla.fit(X, y)\n",
        "    end = time()\n",
        "    t.append(end - start)"
      ]
    },
    {
      "cell_type": "code",
      "execution_count": null,
      "metadata": {
        "colab": {
          "base_uri": "https://localhost:8080/",
          "height": 179
        },
        "colab_type": "code",
        "id": "miizuAYYKElC",
        "outputId": "02359b20-62fa-451a-961c-c47cd889955f"
      },
      "outputs": [],
      "source": [
        "t"
      ]
    },
    {
      "cell_type": "code",
      "execution_count": null,
      "metadata": {
        "colab": {
          "base_uri": "https://localhost:8080/",
          "height": 299
        },
        "colab_type": "code",
        "id": "v8e5GRQTLMZJ",
        "outputId": "90a569ea-0f6f-469c-c2a4-3bca60b7a5ea"
      },
      "outputs": [],
      "source": [
        "plt.figure()\n",
        "plt.plot(lrs,t)\n",
        "plt.title('time cost with different lr')"
      ]
    }
  ],
  "metadata": {
    "colab": {
      "collapsed_sections": [],
      "name": "“perceptron.ipynb”的副本",
      "provenance": [],
      "toc_visible": true,
      "version": "0.3.2"
    },
    "kernelspec": {
      "display_name": "Python 3",
      "language": "python",
      "name": "python3"
    },
    "language_info": {
      "codemirror_mode": {
        "name": "ipython",
        "version": 3
      },
      "file_extension": ".py",
      "mimetype": "text/x-python",
      "name": "python",
      "nbconvert_exporter": "python",
      "pygments_lexer": "ipython3",
      "version": "3.11.6"
    }
  },
  "nbformat": 4,
  "nbformat_minor": 0
}
